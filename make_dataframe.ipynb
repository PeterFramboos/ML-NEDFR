{
  "cells": [
    {
      "cell_type": "code",
      "source": [
        "from google.colab import drive\n",
        "drive.mount('/content/drive')"
      ],
      "metadata": {
        "id": "xQhDuhfiS6Wf",
        "outputId": "95f54112-fe94-48a4-d597-a08598680b75",
        "colab": {
          "base_uri": "https://localhost:8080/"
        }
      },
      "execution_count": 3,
      "outputs": [
        {
          "output_type": "stream",
          "name": "stdout",
          "text": [
            "Mounted at /content/drive\n"
          ]
        }
      ]
    },
    {
      "cell_type": "code",
      "source": [
        "%cd /MyDrive/Github/"
      ],
      "metadata": {
        "id": "qD3KIHbmYKFt",
        "outputId": "39e31c80-db37-4643-9434-a9d855cfe939",
        "colab": {
          "base_uri": "https://localhost:8080/"
        }
      },
      "execution_count": 5,
      "outputs": [
        {
          "output_type": "stream",
          "name": "stdout",
          "text": [
            "[Errno 2] No such file or directory: '/MyDrive/Github/'\n",
            "/content\n"
          ]
        }
      ]
    },
    {
      "cell_type": "code",
      "execution_count": 2,
      "metadata": {
        "execution": {
          "iopub.execute_input": "2022-02-11T15:44:22.518654Z",
          "iopub.status.busy": "2022-02-11T15:44:22.518654Z",
          "iopub.status.idle": "2022-02-11T15:44:22.528654Z",
          "shell.execute_reply": "2022-02-11T15:44:22.528654Z",
          "shell.execute_reply.started": "2022-02-11T15:44:22.518654Z"
        },
        "tags": [],
        "id": "8YTyXCjpS1Om",
        "outputId": "5829731b-2a87-4b60-85af-67f46c0c3b6c",
        "colab": {
          "base_uri": "https://localhost:8080/",
          "height": 314
        }
      },
      "outputs": [
        {
          "output_type": "error",
          "ename": "ModuleNotFoundError",
          "evalue": "ignored",
          "traceback": [
            "\u001b[0;31m---------------------------------------------------------------------------\u001b[0m",
            "\u001b[0;31mModuleNotFoundError\u001b[0m                       Traceback (most recent call last)",
            "\u001b[0;32m<ipython-input-2-8596b952930b>\u001b[0m in \u001b[0;36m<cell line: 1>\u001b[0;34m()\u001b[0m\n\u001b[0;32m----> 1\u001b[0;31m \u001b[0;32mfrom\u001b[0m \u001b[0mfriesdataset\u001b[0m \u001b[0;32mimport\u001b[0m \u001b[0mDataset\u001b[0m\u001b[0;34m\u001b[0m\u001b[0;34m\u001b[0m\u001b[0m\n\u001b[0m",
            "\u001b[0;31mModuleNotFoundError\u001b[0m: No module named 'friesdataset'",
            "",
            "\u001b[0;31m---------------------------------------------------------------------------\u001b[0;32m\nNOTE: If your import is failing due to a missing package, you can\nmanually install dependencies using either !pip or !apt.\n\nTo view examples of installing some common dependencies, click the\n\"Open Examples\" button below.\n\u001b[0;31m---------------------------------------------------------------------------\u001b[0m\n"
          ],
          "errorDetails": {
            "actions": [
              {
                "action": "open_url",
                "actionText": "Open Examples",
                "url": "/notebooks/snippets/importing_libraries.ipynb"
              }
            ]
          }
        }
      ],
      "source": [
        "from friesdataset import Dataset"
      ]
    },
    {
      "cell_type": "code",
      "execution_count": null,
      "metadata": {
        "execution": {
          "iopub.execute_input": "2022-02-11T15:44:22.702655Z",
          "iopub.status.busy": "2022-02-11T15:44:22.702655Z",
          "iopub.status.idle": "2022-02-11T15:44:23.021653Z",
          "shell.execute_reply": "2022-02-11T15:44:23.020653Z",
          "shell.execute_reply.started": "2022-02-11T15:44:22.702655Z"
        },
        "tags": [],
        "id": "Fp0msaVsS1Op"
      },
      "outputs": [],
      "source": [
        "ds = Dataset()"
      ]
    },
    {
      "cell_type": "code",
      "execution_count": null,
      "metadata": {
        "execution": {
          "iopub.execute_input": "2022-02-11T15:44:23.022655Z",
          "iopub.status.busy": "2022-02-11T15:44:23.021653Z",
          "iopub.status.idle": "2022-02-11T15:45:06.562654Z",
          "shell.execute_reply": "2022-02-11T15:45:06.562654Z",
          "shell.execute_reply.started": "2022-02-11T15:44:23.022655Z"
        },
        "tags": [],
        "id": "B_QQPl0NS1Op",
        "outputId": "8a9a6f63-a6bf-4c8a-be7e-ad292ec330ea"
      },
      "outputs": [
        {
          "ename": "",
          "evalue": "",
          "output_type": "error",
          "traceback": [
            "\u001b[1;31mThe Kernel crashed while executing code in the the current cell or a previous cell. Please review the code in the cell(s) to identify a possible cause of the failure. Click <a href='https://aka.ms/vscodeJupyterKernelCrash'>here</a> for more info. View Jupyter <a href='command:jupyter.viewOutput'>log</a> for further details."
          ]
        },
        {
          "ename": "",
          "evalue": "",
          "output_type": "error",
          "traceback": [
            "\u001b[1;31mCanceled future for execute_request message before replies were done"
          ]
        }
      ],
      "source": [
        "df = ds.get_dataframe()"
      ]
    },
    {
      "cell_type": "code",
      "execution_count": null,
      "metadata": {
        "execution": {
          "iopub.execute_input": "2022-02-11T15:45:06.563653Z",
          "iopub.status.busy": "2022-02-11T15:45:06.563653Z",
          "iopub.status.idle": "2022-02-11T15:45:06.578654Z",
          "shell.execute_reply": "2022-02-11T15:45:06.578654Z",
          "shell.execute_reply.started": "2022-02-11T15:45:06.563653Z"
        },
        "tags": [],
        "id": "y2K7ZwqRS1Op",
        "outputId": "fce8a237-a660-488e-b48e-61042f61b228"
      },
      "outputs": [
        {
          "data": {
            "text/html": [
              "<div>\n",
              "<style scoped>\n",
              "    .dataframe tbody tr th:only-of-type {\n",
              "        vertical-align: middle;\n",
              "    }\n",
              "\n",
              "    .dataframe tbody tr th {\n",
              "        vertical-align: top;\n",
              "    }\n",
              "\n",
              "    .dataframe thead th {\n",
              "        text-align: right;\n",
              "    }\n",
              "</style>\n",
              "<table border=\"1\" class=\"dataframe tex2jax_ignore\">\n",
              "  <thead>\n",
              "    <tr style=\"text-align: right;\">\n",
              "      <th></th>\n",
              "      <th>nederlands</th>\n",
              "      <th>fries</th>\n",
              "    </tr>\n",
              "  </thead>\n",
              "  <tbody>\n",
              "    <tr>\n",
              "      <th>0</th>\n",
              "      <td>we hebben de burgemeester het advies gegeven om het cafe tijdelijk te sluiten aldus de stadsambtenaar</td>\n",
              "      <td>wy hawwe de boargemaster it advys jun om it kafee tydlik te sluten sei de stedsamtner</td>\n",
              "    </tr>\n",
              "    <tr>\n",
              "      <th>1</th>\n",
              "      <td>we hebben de burgemeester het advies gegeven om het cafe tijdelijk te sluiten aldus de stadsambtenaar</td>\n",
              "      <td>wy hawwe de boargemaster it advys jun om it kafee tydlik te sluten seit de stedsamtner</td>\n",
              "    </tr>\n",
              "    <tr>\n",
              "      <th>2</th>\n",
              "      <td>een plotselinge dood</td>\n",
              "      <td>in hastige dea</td>\n",
              "    </tr>\n",
              "    <tr>\n",
              "      <th>3</th>\n",
              "      <td>een plotselinge dood</td>\n",
              "      <td>in unferwachte dea</td>\n",
              "    </tr>\n",
              "    <tr>\n",
              "      <th>4</th>\n",
              "      <td>zijn plotseling overlijden</td>\n",
              "      <td>syn hastich ferstjerren</td>\n",
              "    </tr>\n",
              "  </tbody>\n",
              "</table>\n",
              "</div>"
            ],
            "text/plain": [
              "                                                                                              nederlands  \\\n",
              "0  we hebben de burgemeester het advies gegeven om het cafe tijdelijk te sluiten aldus de stadsambtenaar   \n",
              "1  we hebben de burgemeester het advies gegeven om het cafe tijdelijk te sluiten aldus de stadsambtenaar   \n",
              "2                                                                                   een plotselinge dood   \n",
              "3                                                                                   een plotselinge dood   \n",
              "4                                                                             zijn plotseling overlijden   \n",
              "\n",
              "                                                                                    fries  \n",
              "0   wy hawwe de boargemaster it advys jun om it kafee tydlik te sluten sei de stedsamtner  \n",
              "1  wy hawwe de boargemaster it advys jun om it kafee tydlik te sluten seit de stedsamtner  \n",
              "2                                                                          in hastige dea  \n",
              "3                                                                      in unferwachte dea  \n",
              "4                                                                 syn hastich ferstjerren  "
            ]
          },
          "execution_count": 4,
          "metadata": {},
          "output_type": "execute_result"
        }
      ],
      "source": [
        "df.head()"
      ]
    },
    {
      "cell_type": "code",
      "execution_count": null,
      "metadata": {
        "tags": [],
        "id": "lQT85K-_S1Oq"
      },
      "outputs": [],
      "source": [
        "df.to_excel('dataset.xlsx', index=False)"
      ]
    },
    {
      "cell_type": "code",
      "execution_count": null,
      "metadata": {
        "execution": {
          "iopub.execute_input": "2022-02-11T15:45:06.579655Z",
          "iopub.status.busy": "2022-02-11T15:45:06.579655Z",
          "iopub.status.idle": "2022-02-11T15:45:07.050654Z",
          "shell.execute_reply": "2022-02-11T15:45:07.049652Z",
          "shell.execute_reply.started": "2022-02-11T15:45:06.579655Z"
        },
        "id": "TrTZhT1jS1Oq"
      },
      "outputs": [],
      "source": [
        "df.to_csv('dataset.csv', index=False)"
      ]
    },
    {
      "cell_type": "code",
      "execution_count": null,
      "metadata": {
        "id": "XaB3K3xjS1Oq"
      },
      "outputs": [],
      "source": []
    }
  ],
  "metadata": {
    "kernelspec": {
      "display_name": "Python 3 (ipykernel)",
      "language": "python",
      "name": "python3"
    },
    "language_info": {
      "codemirror_mode": {
        "name": "ipython",
        "version": 3
      },
      "file_extension": ".py",
      "mimetype": "text/x-python",
      "name": "python",
      "nbconvert_exporter": "python",
      "pygments_lexer": "ipython3",
      "version": "3.10.12"
    },
    "colab": {
      "provenance": []
    }
  },
  "nbformat": 4,
  "nbformat_minor": 0
}