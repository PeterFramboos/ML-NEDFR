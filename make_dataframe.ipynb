{
 "cells": [
  {
   "cell_type": "code",
   "execution_count": 1,
   "metadata": {
    "execution": {
     "iopub.execute_input": "2022-02-11T15:44:22.518654Z",
     "iopub.status.busy": "2022-02-11T15:44:22.518654Z",
     "iopub.status.idle": "2022-02-11T15:44:22.528654Z",
     "shell.execute_reply": "2022-02-11T15:44:22.528654Z",
     "shell.execute_reply.started": "2022-02-11T15:44:22.518654Z"
    },
    "tags": []
   },
   "outputs": [
    {
     "name": "stdout",
     "output_type": "stream",
     "text": [
      "The history saving thread hit an unexpected error (OperationalError('attempt to write a readonly database')).History will not be written to the database.\n"
     ]
    },
    {
     "ename": "KeyboardInterrupt",
     "evalue": "",
     "output_type": "error",
     "traceback": [
      "\u001b[0;31m---------------------------------------------------------------------------\u001b[0m",
      "\u001b[0;31mFileNotFoundError\u001b[0m                         Traceback (most recent call last)",
      "File \u001b[0;32m<frozen importlib._bootstrap_external>:153\u001b[0m, in \u001b[0;36m_path_is_mode_type\u001b[0;34m(path, mode)\u001b[0m\n",
      "File \u001b[0;32m<frozen importlib._bootstrap_external>:147\u001b[0m, in \u001b[0;36m_path_stat\u001b[0;34m(path)\u001b[0m\n",
      "\u001b[0;31mFileNotFoundError\u001b[0m: [Errno 2] No such file or directory: '/home/david/.local/lib/python3.10/site-packages/pandas/__init__.cpython-310-x86_64-linux-gnu.so'",
      "\nDuring handling of the above exception, another exception occurred:\n",
      "\u001b[0;31mKeyboardInterrupt\u001b[0m                         Traceback (most recent call last)",
      "\u001b[1;32m/mnt/d/Gebruiker/Music/NEDFR/make_dataframe.ipynb Cell 1\u001b[0m line \u001b[0;36m1\n\u001b[0;32m----> <a href='vscode-notebook-cell://wsl%2Bubuntu/mnt/d/Gebruiker/Music/NEDFR/make_dataframe.ipynb#W0sdnNjb2RlLXJlbW90ZQ%3D%3D?line=0'>1</a>\u001b[0m \u001b[39mfrom\u001b[39;00m \u001b[39mfriesdataset\u001b[39;00m \u001b[39mimport\u001b[39;00m Dataset\n",
      "File \u001b[0;32m/mnt/d/Gebruiker/Music/NEDFR/friesdataset.py:2\u001b[0m\n\u001b[1;32m      1\u001b[0m \u001b[39mimport\u001b[39;00m \u001b[39mre\u001b[39;00m\n\u001b[0;32m----> 2\u001b[0m \u001b[39mimport\u001b[39;00m \u001b[39mpandas\u001b[39;00m \u001b[39mas\u001b[39;00m \u001b[39mpd\u001b[39;00m\n\u001b[1;32m      3\u001b[0m \u001b[39mfrom\u001b[39;00m \u001b[39mtyping\u001b[39;00m \u001b[39mimport\u001b[39;00m List, Tuple, Generator\n\u001b[1;32m      5\u001b[0m \u001b[39mclass\u001b[39;00m \u001b[39mDataset\u001b[39;00m:\n",
      "File \u001b[0;32m<frozen importlib._bootstrap>:1027\u001b[0m, in \u001b[0;36m_find_and_load\u001b[0;34m(name, import_)\u001b[0m\n",
      "File \u001b[0;32m<frozen importlib._bootstrap>:1002\u001b[0m, in \u001b[0;36m_find_and_load_unlocked\u001b[0;34m(name, import_)\u001b[0m\n",
      "File \u001b[0;32m<frozen importlib._bootstrap>:945\u001b[0m, in \u001b[0;36m_find_spec\u001b[0;34m(name, path, target)\u001b[0m\n",
      "File \u001b[0;32m<frozen importlib._bootstrap_external>:1439\u001b[0m, in \u001b[0;36mfind_spec\u001b[0;34m(cls, fullname, path, target)\u001b[0m\n",
      "File \u001b[0;32m<frozen importlib._bootstrap_external>:1411\u001b[0m, in \u001b[0;36m_get_spec\u001b[0;34m(cls, fullname, path, target)\u001b[0m\n",
      "File \u001b[0;32m<frozen importlib._bootstrap_external>:1563\u001b[0m, in \u001b[0;36mfind_spec\u001b[0;34m(self, fullname, target)\u001b[0m\n",
      "File \u001b[0;32m<frozen importlib._bootstrap_external>:161\u001b[0m, in \u001b[0;36m_path_isfile\u001b[0;34m(path)\u001b[0m\n",
      "File \u001b[0;32m<frozen importlib._bootstrap_external>:153\u001b[0m, in \u001b[0;36m_path_is_mode_type\u001b[0;34m(path, mode)\u001b[0m\n",
      "\u001b[0;31mKeyboardInterrupt\u001b[0m: "
     ]
    },
    {
     "name": "stderr",
     "output_type": "stream",
     "text": [
      "Exception ignored in atexit callback: <bound method InteractiveShell.atexit_operations of <ipykernel.zmqshell.ZMQInteractiveShell object at 0x7f4ade3ec880>>\n",
      "Traceback (most recent call last):\n",
      "  File \"/home/david/.local/lib/python3.10/site-packages/IPython/core/interactiveshell.py\", line 3893, in atexit_operations\n",
      "    self._atexit_once()\n",
      "  File \"/home/david/.local/lib/python3.10/site-packages/IPython/core/interactiveshell.py\", line 3876, in _atexit_once\n",
      "    self.history_manager.end_session()\n",
      "  File \"/home/david/.local/lib/python3.10/site-packages/IPython/core/history.py\", line 585, in end_session\n",
      "    self.db.execute(\n",
      "sqlite3.OperationalError: attempt to write a readonly database\n"
     ]
    }
   ],
   "source": [
    "from friesdataset import Dataset"
   ]
  },
  {
   "cell_type": "code",
   "execution_count": 2,
   "metadata": {
    "execution": {
     "iopub.execute_input": "2022-02-11T15:44:22.702655Z",
     "iopub.status.busy": "2022-02-11T15:44:22.702655Z",
     "iopub.status.idle": "2022-02-11T15:44:23.021653Z",
     "shell.execute_reply": "2022-02-11T15:44:23.020653Z",
     "shell.execute_reply.started": "2022-02-11T15:44:22.702655Z"
    },
    "tags": []
   },
   "outputs": [],
   "source": [
    "ds = Dataset()"
   ]
  },
  {
   "cell_type": "code",
   "execution_count": 3,
   "metadata": {
    "execution": {
     "iopub.execute_input": "2022-02-11T15:44:23.022655Z",
     "iopub.status.busy": "2022-02-11T15:44:23.021653Z",
     "iopub.status.idle": "2022-02-11T15:45:06.562654Z",
     "shell.execute_reply": "2022-02-11T15:45:06.562654Z",
     "shell.execute_reply.started": "2022-02-11T15:44:23.022655Z"
    },
    "tags": []
   },
   "outputs": [
    {
     "ename": "",
     "evalue": "",
     "output_type": "error",
     "traceback": [
      "\u001b[1;31mThe Kernel crashed while executing code in the the current cell or a previous cell. Please review the code in the cell(s) to identify a possible cause of the failure. Click <a href='https://aka.ms/vscodeJupyterKernelCrash'>here</a> for more info. View Jupyter <a href='command:jupyter.viewOutput'>log</a> for further details."
     ]
    },
    {
     "ename": "",
     "evalue": "",
     "output_type": "error",
     "traceback": [
      "\u001b[1;31mCanceled future for execute_request message before replies were done"
     ]
    }
   ],
   "source": [
    "df = ds.get_dataframe()"
   ]
  },
  {
   "cell_type": "code",
   "execution_count": 4,
   "metadata": {
    "execution": {
     "iopub.execute_input": "2022-02-11T15:45:06.563653Z",
     "iopub.status.busy": "2022-02-11T15:45:06.563653Z",
     "iopub.status.idle": "2022-02-11T15:45:06.578654Z",
     "shell.execute_reply": "2022-02-11T15:45:06.578654Z",
     "shell.execute_reply.started": "2022-02-11T15:45:06.563653Z"
    },
    "tags": []
   },
   "outputs": [
    {
     "data": {
      "text/html": [
       "<div>\n",
       "<style scoped>\n",
       "    .dataframe tbody tr th:only-of-type {\n",
       "        vertical-align: middle;\n",
       "    }\n",
       "\n",
       "    .dataframe tbody tr th {\n",
       "        vertical-align: top;\n",
       "    }\n",
       "\n",
       "    .dataframe thead th {\n",
       "        text-align: right;\n",
       "    }\n",
       "</style>\n",
       "<table border=\"1\" class=\"dataframe tex2jax_ignore\">\n",
       "  <thead>\n",
       "    <tr style=\"text-align: right;\">\n",
       "      <th></th>\n",
       "      <th>nederlands</th>\n",
       "      <th>fries</th>\n",
       "    </tr>\n",
       "  </thead>\n",
       "  <tbody>\n",
       "    <tr>\n",
       "      <th>0</th>\n",
       "      <td>we hebben de burgemeester het advies gegeven om het cafe tijdelijk te sluiten aldus de stadsambtenaar</td>\n",
       "      <td>wy hawwe de boargemaster it advys jun om it kafee tydlik te sluten sei de stedsamtner</td>\n",
       "    </tr>\n",
       "    <tr>\n",
       "      <th>1</th>\n",
       "      <td>we hebben de burgemeester het advies gegeven om het cafe tijdelijk te sluiten aldus de stadsambtenaar</td>\n",
       "      <td>wy hawwe de boargemaster it advys jun om it kafee tydlik te sluten seit de stedsamtner</td>\n",
       "    </tr>\n",
       "    <tr>\n",
       "      <th>2</th>\n",
       "      <td>een plotselinge dood</td>\n",
       "      <td>in hastige dea</td>\n",
       "    </tr>\n",
       "    <tr>\n",
       "      <th>3</th>\n",
       "      <td>een plotselinge dood</td>\n",
       "      <td>in unferwachte dea</td>\n",
       "    </tr>\n",
       "    <tr>\n",
       "      <th>4</th>\n",
       "      <td>zijn plotseling overlijden</td>\n",
       "      <td>syn hastich ferstjerren</td>\n",
       "    </tr>\n",
       "  </tbody>\n",
       "</table>\n",
       "</div>"
      ],
      "text/plain": [
       "                                                                                              nederlands  \\\n",
       "0  we hebben de burgemeester het advies gegeven om het cafe tijdelijk te sluiten aldus de stadsambtenaar   \n",
       "1  we hebben de burgemeester het advies gegeven om het cafe tijdelijk te sluiten aldus de stadsambtenaar   \n",
       "2                                                                                   een plotselinge dood   \n",
       "3                                                                                   een plotselinge dood   \n",
       "4                                                                             zijn plotseling overlijden   \n",
       "\n",
       "                                                                                    fries  \n",
       "0   wy hawwe de boargemaster it advys jun om it kafee tydlik te sluten sei de stedsamtner  \n",
       "1  wy hawwe de boargemaster it advys jun om it kafee tydlik te sluten seit de stedsamtner  \n",
       "2                                                                          in hastige dea  \n",
       "3                                                                      in unferwachte dea  \n",
       "4                                                                 syn hastich ferstjerren  "
      ]
     },
     "execution_count": 4,
     "metadata": {},
     "output_type": "execute_result"
    }
   ],
   "source": [
    "df.head()"
   ]
  },
  {
   "cell_type": "code",
   "execution_count": 10,
   "metadata": {
    "tags": []
   },
   "outputs": [],
   "source": [
    "df.to_excel('dataset.xlsx', index=False)"
   ]
  },
  {
   "cell_type": "code",
   "execution_count": 5,
   "metadata": {
    "execution": {
     "iopub.execute_input": "2022-02-11T15:45:06.579655Z",
     "iopub.status.busy": "2022-02-11T15:45:06.579655Z",
     "iopub.status.idle": "2022-02-11T15:45:07.050654Z",
     "shell.execute_reply": "2022-02-11T15:45:07.049652Z",
     "shell.execute_reply.started": "2022-02-11T15:45:06.579655Z"
    }
   },
   "outputs": [],
   "source": [
    "df.to_csv('dataset.csv', index=False)"
   ]
  },
  {
   "cell_type": "code",
   "execution_count": null,
   "metadata": {},
   "outputs": [],
   "source": []
  }
 ],
 "metadata": {
  "kernelspec": {
   "display_name": "Python 3 (ipykernel)",
   "language": "python",
   "name": "python3"
  },
  "language_info": {
   "codemirror_mode": {
    "name": "ipython",
    "version": 3
   },
   "file_extension": ".py",
   "mimetype": "text/x-python",
   "name": "python",
   "nbconvert_exporter": "python",
   "pygments_lexer": "ipython3",
   "version": "3.10.12"
  }
 },
 "nbformat": 4,
 "nbformat_minor": 4
}
